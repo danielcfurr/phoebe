{
 "cells": [
  {
   "cell_type": "code",
   "execution_count": null,
   "id": "6a101d79-c26d-4aaf-9387-bd8fe75c679c",
   "metadata": {},
   "outputs": [],
   "source": [
    "import re\n",
    "import requests\n",
    "from bs4 import BeautifulSoup\n",
    "from IPython.display import display\n",
    "from PIL import Image, ImageOps\n",
    "from io import BytesIO\n",
    "import json"
   ]
  },
  {
   "cell_type": "code",
   "execution_count": null,
   "id": "6dae4acc-dcff-430f-9ffa-ba3d97a5f487",
   "metadata": {},
   "outputs": [],
   "source": [
    "class BirdImage():\n",
    "    def __init__(self, url, scientific_name, author, license_url):\n",
    "        response = requests.get(url)\n",
    "        soup = BeautifulSoup(response.text, \"html.parser\")\n",
    "        \n",
    "        # Find original image\n",
    "        link = soup.find(\"a\", string=\"Original file\")\n",
    "        image_url = link[\"href\"]\n",
    "        \n",
    "        print(image_url)\n",
    "        \n",
    "        # Fetch the image\n",
    "        headers = {\n",
    "            \"User-Agent\": \"Mozilla/5.0 (Windows NT 10.0; Win64; x64) AppleWebKit/537.36 (KHTML, like Gecko) Chrome/112.0.0.0 Safari/537.36\"\n",
    "        }\n",
    "        response = requests.get(image_url, headers=headers)\n",
    "        image = Image.open(BytesIO(response.content))\n",
    "        # Auto-rotate using EXIF\n",
    "        image = ImageOps.exif_transpose(image)\n",
    "\n",
    "        self.image = image\n",
    "        \n",
    "        self.data = {\n",
    "            \"scientific_name\": scientific_name,\n",
    "            \"url\": url,\n",
    "            \"author\": author,\n",
    "            \"license_url\": license_url,\n",
    "            \"image_url\": image_url,\n",
    "            \"crop_box\": [0, 0, self.image.width, self.image.height],\n",
    "            \"x\": 0.0,\n",
    "            \"y\": 0.0,\n",
    "            \"s\": 1.0,\n",
    "        }\n",
    "\n",
    "        self.set_crop()\n",
    "\n",
    "    def set_crop(self, x=None, y=None, s=None):\n",
    "        self.data[\"x\"] = self.data[\"x\"] if x is None else x\n",
    "        self.data[\"y\"] = self.data[\"y\"] if y is None else y\n",
    "        self.data[\"s\"] = self.data[\"s\"] if s is None else s\n",
    "        \n",
    "        x = self.data[\"x\"] * self.image.width\n",
    "        y = self.data[\"y\"] * self.image.height\n",
    "        s = self.data[\"s\"] * self.image.width\n",
    "        \n",
    "        self.data[\"crop_box\"] = (\n",
    "            int(x), \n",
    "            int(y), \n",
    "            int(x + s), \n",
    "            int(y + s),\n",
    "        )\n",
    "\n",
    "        return self\n",
    "\n",
    "    def display_image(self, size=150):\n",
    "        cropped_img = self.image.crop(self.data['crop_box'])\n",
    "        resized = cropped_img.resize((size, size))\n",
    "        display(resized)\n",
    "    \n",
    "    def save_image(self, size=150, path=\"images/\"):\n",
    "        if self.data['crop_box'] is None:\n",
    "            self.set_crop()\n",
    "\n",
    "        cropped_img = self.image.crop(self.data['crop_box'])\n",
    "        resized = cropped_img.resize((size, size))\n",
    "        resized.save(f\"{path}{self.data[\"scientific_name\"]}.jpg\")\n",
    "        \n",
    "    def write_data(self, filepath=\"image_data.jsonl\"):\n",
    "        with open(\"image_data.jsonl\", \"a\") as f:\n",
    "            f.write(json.dumps(self.data) + \"\\n\")"
   ]
  },
  {
   "cell_type": "markdown",
   "id": "28fda010-374c-4090-9bb4-c86b901322f6",
   "metadata": {},
   "source": [
    "Select an image/page from commons.wikimedia.org, providing some additional information that could not be scraped consistently."
   ]
  },
  {
   "cell_type": "code",
   "execution_count": null,
   "id": "338b7971-1111-459c-b5d8-e7fb8de77ac2",
   "metadata": {},
   "outputs": [],
   "source": [
    "bi = BirdImage(\n",
    "    url=\"https://commons.wikimedia.org/wiki/File:Myrtle_Warbler_-_Houston,_TX_2.jpg\",\n",
    "    scientific_name=\"Setophaga coronata\",\n",
    "    author=\"Dan Pancamo\",\n",
    "    license_url=\"https://creativecommons.org/licenses/by-sa/2.0/deed.en\"\n",
    ")"
   ]
  },
  {
   "cell_type": "markdown",
   "id": "7066348d-71da-4081-a6bc-25d6ceca985e",
   "metadata": {},
   "source": [
    "Display the (small form) of the original image."
   ]
  },
  {
   "cell_type": "code",
   "execution_count": null,
   "id": "5990b3a6-a817-4e51-a0ab-f93c4c3051a3",
   "metadata": {},
   "outputs": [],
   "source": [
    "bi.display_image()"
   ]
  },
  {
   "cell_type": "markdown",
   "id": "02df24aa-c521-406a-8723-8db67f671951",
   "metadata": {},
   "source": [
    "Experiment with values for cropping."
   ]
  },
  {
   "cell_type": "code",
   "execution_count": null,
   "id": "25e2f3a0-f855-4bca-832c-8631eaf8999d",
   "metadata": {},
   "outputs": [],
   "source": [
    "bi.set_crop(.0, .1, .9).display_image()"
   ]
  },
  {
   "cell_type": "markdown",
   "id": "f0910f5c-5283-4299-9536-3f52e13adc25",
   "metadata": {},
   "source": [
    "Once satisfied, save the image and record the metadata."
   ]
  },
  {
   "cell_type": "code",
   "execution_count": null,
   "id": "fffbd56b-0aab-497f-b7cd-8c033e6a8ab5",
   "metadata": {},
   "outputs": [],
   "source": [
    "bi.save_image()\n",
    "bi.write_data()"
   ]
  }
 ],
 "metadata": {
  "kernelspec": {
   "display_name": "Python 3 (ipykernel)",
   "language": "python",
   "name": "python3"
  },
  "language_info": {
   "codemirror_mode": {
    "name": "ipython",
    "version": 3
   },
   "file_extension": ".py",
   "mimetype": "text/x-python",
   "name": "python",
   "nbconvert_exporter": "python",
   "pygments_lexer": "ipython3",
   "version": "3.12.9"
  }
 },
 "nbformat": 4,
 "nbformat_minor": 5
}
