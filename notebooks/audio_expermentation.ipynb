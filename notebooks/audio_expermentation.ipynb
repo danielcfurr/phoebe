{
 "cells": [
  {
   "cell_type": "code",
   "execution_count": null,
   "id": "c78d713f-e307-4c03-b411-3e37b39ea9d7",
   "metadata": {},
   "outputs": [],
   "source": [
    "import numpy as np\n",
    "import pandas as pd\n",
    "from pathlib import Path\n",
    "from matplotlib import pyplot as plt\n",
    "from IPython.display import Audio, display, clear_output\n",
    "\n",
    "import librosa\n",
    "from birdnetlib import Recording\n",
    "from birdnetlib.analyzer import Analyzer\n",
    "from mosqito import sq_metrics\n",
    "\n",
    "pd.set_option('future.no_silent_downcasting', True)\n",
    "\n",
    "raw_dir = Path('../audio/data/raw/').resolve()\n",
    "examples = [path for path in raw_dir.glob('*.mp3')]"
   ]
  },
  {
   "cell_type": "markdown",
   "id": "595c9240-305b-444f-9e00-818d9338ecdf",
   "metadata": {},
   "source": [
    "# Presence"
   ]
  },
  {
   "cell_type": "code",
   "execution_count": null,
   "id": "7d35b62f-3e86-4055-9e3b-bb6cd65c3498",
   "metadata": {},
   "outputs": [],
   "source": [
    "def presence_score(x, window):\n",
    "    # Ensure x is a list of floats of length `window_size`, padding with zero (false)\n",
    "    x = list(x)[:window]\n",
    "    x = [float(xi) for xi in x]\n",
    "    x = x + [0]*(window - len(x))\n",
    "    \n",
    "    if x[0] == 1:\n",
    "        return sum([xi / (i+1) for i, xi in enumerate(x)])\n",
    "    else:\n",
    "        # Set score to zero if first entry is false\n",
    "        return 0.0"
   ]
  },
  {
   "cell_type": "code",
   "execution_count": null,
   "id": "cafeebc8-9c65-42ac-9199-70ccd0fbbe1c",
   "metadata": {},
   "outputs": [],
   "source": [
    "def presence_window(analyzer, filepath, scientific_name=None, window_size=4):\n",
    "    seconds_per_segment = 3\n",
    "\n",
    "    recording = Recording(analyzer, filepath, return_all_detections=True)\n",
    "    recording.analyze()\n",
    "    detections = pd.DataFrame(recording.detections)\n",
    "\n",
    "    if scientific_name is None:\n",
    "        counts = detections['scientific_name'].value_counts()\n",
    "        target = counts.index[0]\n",
    "    else:\n",
    "        target = scientific_name\n",
    "\n",
    "    df = detections[['start_time', 'scientific_name']].copy()\n",
    "    df['segment'] = df['start_time'].div(seconds_per_segment).astype(int)\n",
    "    df['target'] = df['scientific_name'] == target\n",
    "    \n",
    "    good_segments = df.groupby('segment')['target'].apply(lambda x: np.all(x))\n",
    "    good_segments = good_segments.reindex(range(max(good_segments.index) + 1)).fillna(False)\n",
    "    \n",
    "    rolling_good_count = (\n",
    "        good_segments\n",
    "        .rolling(window=window_size, min_periods=1)\n",
    "        .apply(lambda x: presence_score(x, window=window_size))\n",
    "    )\n",
    "    idx = rolling_good_count.idxmax()\n",
    "    \n",
    "    result = {\n",
    "        \"filepath\": filepath,\n",
    "        \"start\": idx,\n",
    "        \"end\": idx + window_size*seconds_per_segment,\n",
    "        \"target\": target,\n",
    "        \"presence\": rolling_good_count.loc[idx],\n",
    "    }\n",
    "\n",
    "    return result\n",
    "\n",
    "\n",
    "analyzer = Analyzer()\n",
    "\n",
    "recordings = pd.DataFrame([presence_window(analyzer, ex) for ex in examples])  \n",
    "\n",
    "clear_output(wait=True)\n",
    "\n",
    "recordings"
   ]
  },
  {
   "cell_type": "markdown",
   "id": "766f5d7c-0510-49d2-86ed-fa4d45f5a722",
   "metadata": {},
   "source": [
    "# Mosquito feaures"
   ]
  },
  {
   "cell_type": "code",
   "execution_count": null,
   "id": "095ac62e-f2c7-4b46-9a7f-a9a65fb6fd52",
   "metadata": {
    "scrolled": true
   },
   "outputs": [],
   "source": [
    "recordings['zwst'] = 999.9\n",
    "for idx, row in recordings.iterrows():\n",
    "    data, rate = librosa.load(row['filepath'], sr=48000)  # Set sr to avoid warning about upsampling    \n",
    "    start, end = row['start'] * rate, row['end'] * rate\n",
    "    recordings.loc[idx, 'zwst'], _, _ = sq_metrics.loudness_zwst(data[start:end], rate)"
   ]
  },
  {
   "cell_type": "markdown",
   "id": "1426f292-fa86-4ecf-af28-c9f9d5ef555e",
   "metadata": {},
   "source": [
    "# Librosa features"
   ]
  },
  {
   "cell_type": "code",
   "execution_count": null,
   "id": "89d87ff9-bc16-476b-905e-e4cbc19869ff",
   "metadata": {},
   "outputs": [],
   "source": [
    "def extract_noise_features(y, sr):\n",
    "    zcr = np.mean(librosa.feature.zero_crossing_rate(y))\n",
    "    spectral_flatness = np.mean(librosa.feature.spectral_flatness(y=y))\n",
    "    spectral_centroid = np.mean(librosa.feature.spectral_centroid(y=y, sr=sr))\n",
    "    S = np.abs(librosa.stft(y))\n",
    "    freqs = librosa.fft_frequencies(sr=sr)\n",
    "    low_freq_ratio = np.sum(S[freqs < 300]) / np.sum(S)  # Energy below 300 Hz\n",
    "    rms = librosa.feature.rms(y=y)\n",
    "    return {\n",
    "        \"zcr\": zcr,\n",
    "        \"spectral_flatness\": spectral_flatness,\n",
    "        \"spectral_centroid\": spectral_centroid,\n",
    "        \"low_freq_ratio\": low_freq_ratio,\n",
    "        \"rms_mean\": np.mean(rms),\n",
    "        \"rms_sd\": np.std(rms),\n",
    "    }\n",
    "\n",
    "\n",
    "feature_names = [\"zcr\", \"spectral_flatness\", \"spectral_centroid\", \"low_freq_ratio\", \"rms_mean\", \"rms_sd\"]\n",
    "for v in feature_names:\n",
    "    recordings[v] = -9.9\n",
    "    \n",
    "for idx, row in recordings.iterrows():\n",
    "    data, rate = librosa.load(row['filepath'])\n",
    "    start, end = row['start']*rate, row['end']*rate\n",
    "    features = extract_noise_features(data[start:end], rate)\n",
    "    for v in feature_names:\n",
    "        recordings.loc[idx, v] = features[v]"
   ]
  },
  {
   "cell_type": "markdown",
   "id": "28bcd124-0a72-4623-ae99-b96ece1963a7",
   "metadata": {},
   "source": [
    "# Feature comparison"
   ]
  },
  {
   "cell_type": "code",
   "execution_count": null,
   "id": "5c1783b7-f321-4f53-ae66-3f5c52b58d8b",
   "metadata": {},
   "outputs": [],
   "source": [
    "recordings.head(4)"
   ]
  },
  {
   "cell_type": "code",
   "execution_count": null,
   "id": "ebc1c6d4-ca45-40e7-aa3c-f6b5b58b8f27",
   "metadata": {},
   "outputs": [],
   "source": [
    "def audio_compare(df, col, n=5, quantile=.2, start_col='start', end_col='end'):\n",
    "    df = df.copy().sort_values(col)\n",
    "    \n",
    "    base_idx = int(len(df) * quantile)\n",
    "    ii = list(range(base_idx, base_idx + n))\n",
    "    ii = ii + [len(df) - i for i in ii]\n",
    "\n",
    "    for i in ii:\n",
    "        row = df.iloc[i]\n",
    "        print(col, row[col])\n",
    "        data, rate = librosa.load(row['filepath'])\n",
    "        start = row[start_col] * rate\n",
    "        end = row[end_col] * rate\n",
    "        display(Audio(data[start:end], rate=rate))\n",
    "\n",
    "\n",
    "audio_compare(recordings, \"rms_mean\")"
   ]
  },
  {
   "cell_type": "markdown",
   "id": "7c56a429-d553-48c3-96cb-abd833e4a527",
   "metadata": {},
   "source": [
    "# Onset detection"
   ]
  },
  {
   "cell_type": "markdown",
   "id": "5723307c-1863-4d48-a34f-6af646ec315f",
   "metadata": {},
   "source": [
    "Onset detection may benefit from feeding in earlier data."
   ]
  },
  {
   "cell_type": "code",
   "execution_count": null,
   "id": "bcc71afd-eadc-4baa-962f-bac18d0014ac",
   "metadata": {},
   "outputs": [],
   "source": [
    "def find_onset(filepath, start_sec, end_sec, delta=.25):\n",
    "    data, rate = librosa.load(filepath)\n",
    "    start = start_sec * rate\n",
    "    end = end_sec * rate\n",
    "    clip = data[start:end]\n",
    "\n",
    "    # \"Offset\" because times are relative to clip, not full audio\n",
    "    offsets = librosa.onset.onset_detect(y=clip, sr=rate, backtrack=True, units='time', delta=delta)\n",
    "    \n",
    "    if not len(offsets):\n",
    "        return start, 0.0\n",
    "\n",
    "    min_offset = min(offsets)\n",
    "    if min_offset > 3:\n",
    "        offset = 0\n",
    "    else:\n",
    "        offset = min_offset\n",
    "\n",
    "    onset = start_sec + offset\n",
    "    \n",
    "    return onset, offset\n",
    "\n",
    "\n",
    "recordings['onset'] = -9.9\n",
    "recordings['offset'] = -9.9\n",
    "for idx, row in recordings.iterrows():\n",
    "    onset, offset = find_onset(row['filepath'], row['start'], row['end'], delta=.25)\n",
    "    recordings.loc[idx, 'onset'] = onset\n",
    "    recordings.loc[idx, 'offset'] = offset"
   ]
  },
  {
   "cell_type": "code",
   "execution_count": null,
   "id": "46693df5-3d5b-47c7-82c2-3dcbe71f06ac",
   "metadata": {},
   "outputs": [],
   "source": [
    "sum(recordings['offset'] == 0)"
   ]
  },
  {
   "cell_type": "code",
   "execution_count": null,
   "id": "c764f082-5347-4a01-8da8-0a2c73317701",
   "metadata": {},
   "outputs": [],
   "source": [
    "recordings['offset'].plot(kind='hist')\n",
    "plt.show()"
   ]
  },
  {
   "cell_type": "code",
   "execution_count": null,
   "id": "8b0485b9-051f-4b57-a086-7fad8febde83",
   "metadata": {},
   "outputs": [],
   "source": [
    "for idx in np.random.choice(recordings.index, 5):\n",
    "    row = recordings.loc[idx]\n",
    "    data, rate = librosa.load(row['filepath'])\n",
    "    start = int(onset * rate)\n",
    "    end = int((onset + 9) * rate)\n",
    "    print(row['offset'])\n",
    "    display(Audio(data[start:end], rate=rate))"
   ]
  }
 ],
 "metadata": {
  "kernelspec": {
   "display_name": "Python 3 (ipykernel)",
   "language": "python",
   "name": "python3"
  },
  "language_info": {
   "codemirror_mode": {
    "name": "ipython",
    "version": 3
   },
   "file_extension": ".py",
   "mimetype": "text/x-python",
   "name": "python",
   "nbconvert_exporter": "python",
   "pygments_lexer": "ipython3",
   "version": "3.12.9"
  }
 },
 "nbformat": 4,
 "nbformat_minor": 5
}
